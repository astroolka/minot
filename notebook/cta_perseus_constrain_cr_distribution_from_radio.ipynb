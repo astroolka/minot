{
 "cells": [
  {
   "cell_type": "raw",
   "metadata": {},
   "source": [
    "This notebook is part of the CTA key science project dedicated to Perseus. Here, we constrain the Perseus CR distribution (spectral and spatial) using radio data, via an MCMC approach."
   ]
  },
  {
   "cell_type": "markdown",
   "metadata": {},
   "source": [
    "# Imports and parameters"
   ]
  },
  {
   "cell_type": "code",
   "execution_count": 1,
   "metadata": {},
   "outputs": [],
   "source": [
    "import os\n",
    "from astropy.coordinates.sky_coordinate import SkyCoord\n",
    "from astropy.cosmology import Planck15 as cosmo\n",
    "import astropy.units as u\n",
    "from astropy.wcs import WCS\n",
    "import numpy as np\n",
    "import pandas as pd\n",
    "import scipy.ndimage as ndimage\n",
    "import emcee\n",
    "import corner\n",
    "import matplotlib\n",
    "import matplotlib.pyplot as plt\n",
    "\n",
    "from minot.ClusterTools import map_tools\n",
    "import minot\n",
    "\n",
    "# Modify plotting parameters\n",
    "dict_base = {'font.size':        16,\n",
    "             'legend.fontsize':  16,\n",
    "             'xtick.labelsize':  16,\n",
    "             'ytick.labelsize':  16,\n",
    "             'axes.labelsize':   16,\n",
    "             'axes.titlesize':   16,\n",
    "             'figure.titlesize': 16,    \n",
    "             'figure.figsize':[8.0, 6.0],\n",
    "             'figure.subplot.right':0.97,\n",
    "             'figure.subplot.left':0.15,\n",
    "             'font.family':'serif',\n",
    "             'figure.facecolor': 'white',\n",
    "             'legend.frameon': True}\n",
    "plt.rcParams.update(dict_base)"
   ]
  },
  {
   "cell_type": "code",
   "execution_count": 2,
   "metadata": {},
   "outputs": [],
   "source": [
    "#---------- Analysis\n",
    "Nmc = 100\n",
    "reset_mcmc = True"
   ]
  },
  {
   "cell_type": "code",
   "execution_count": 3,
   "metadata": {},
   "outputs": [],
   "source": [
    "#---------- Data\n",
    "dat_dir = os.getenv('CTAPHYS_EDAT_DIR')+'Radio'\n",
    "\n",
    "# Extracted from Gitti's paper\n",
    "prof_file = dat_dir+'/Perseus_radio_profile_Gitti.txt' \n",
    "prof_data1 = pd.read_csv(prof_file, header=None, skiprows=1, index_col=False, names=['radius', 'flux', 'error_m', 'error_p'])\n",
    "prof_data1['error_m'] = np.log(10)*10**prof_data1['flux'] * prof_data1['error_m'] / 2\n",
    "prof_data1['error_p'] = np.log(10)*10**prof_data1['flux'] * prof_data1['error_p'] / 2\n",
    "prof_data1['flux'] = 10**prof_data1['flux']\n",
    "\n",
    "# Provided by G.F.B.\n",
    "prof_data2 = {'radius':np.array([239.2,217.8,203.5,192.8,185.7,167.8,153.5,139.2,128.5,110.7,092.8,082.1,067.8,053.6,042.8,039.3,028.6,014.3]), \n",
    "             'flux_m':np.array([0.003667,0.003667,0.003643,0.007334,0.011000,0.018340,0.036670,0.036670,0.055010,0.073340,0.073340,0.183400,0.366700,0.550100,0.733400,0.733400,3.667000,14.66800]),\n",
    "             'flux_p':np.array([0.036670,0.036670,0.018340,0.055010,0.055010,0.091680,0.183400,0.366700,0.366700,0.550100,0.550100,0.733400,0.733400,1.375100,3.667000,3.667000,7.334100,14.66800])}\n",
    "prof_data2['flux'] = 0.5*(prof_data2['flux_m'] + prof_data2['flux_p'])\n",
    "prof_data2['error_m'] =    (prof_data2['flux'] - prof_data2['flux_m'])\n",
    "prof_data2['error_p'] =   -(prof_data2['flux'] - prof_data2['flux_p'])\n",
    "\n",
    "prof_data = {'radius':prof_data2['radius'][::-1]*u.kpc,\n",
    "             'flux':np.array(prof_data1['flux'])*u.Jy/u.arcmin**2,\n",
    "             'error_p':(prof_data2['flux_p'][::-1] - np.array(prof_data1['flux']))*u.Jy/u.arcmin**2,\n",
    "             'error_m':(np.array(prof_data1['flux'])   - prof_data2['flux_m'][::-1])*u.Jy/u.arcmin**2,\n",
    "             'freq0':327*u.MHz}\n",
    "\n",
    "spec_data = {'freq':np.array([327,609,1395])*u.MHz, \n",
    "             'flux':np.array([1.2423625254582,0.8798370672098,0.4765784114053]), # This is log F/Jy here\n",
    "             'error':np.array([0.12219959266803,0.08961303462322,0.05702647657841])}\n",
    "spec_data['error'] = np.log(10)*10**spec_data['flux'] * spec_data['error'] * u.Jy\n",
    "spec_data['flux'] = 10**spec_data['flux'] *u.Jy"
   ]
  },
  {
   "cell_type": "code",
   "execution_count": 4,
   "metadata": {},
   "outputs": [
    {
     "data": {
      "image/png": "[encoded data removed]",
      "text/plain": [
       "<Figure size 1296x576 with 2 Axes>"
      ]
     },
     "metadata": {
      "needs_background": "light"
     },
     "output_type": "display_data"
    }
   ],
   "source": [
    "fig = plt.figure(0, figsize=(18, 8))\n",
    "ax = plt.subplot(121)\n",
    "plt.errorbar(spec_data['freq'].to_value('MHz'), spec_data['flux'].to_value('Jy'), spec_data['error'].to_value('Jy'),\n",
    "            marker='o', linestyle='')\n",
    "plt.xscale('log')\n",
    "plt.yscale('log')\n",
    "plt.xlabel('Frequency (MHz)')\n",
    "plt.ylabel('Flux (Jy)')\n",
    "plt.grid()\n",
    "\n",
    "ax = plt.subplot(122)\n",
    "plt.errorbar(prof_data['radius'].to_value('kpc'), prof_data['flux'].to_value('Jy arcmin-2'), \n",
    "             yerr=(prof_data['error_m'].to_value('Jy arcmin-2'), prof_data['error_p'].to_value('Jy arcmin-2')),\n",
    "             marker='o', linestyle='')\n",
    "plt.xscale('linear')\n",
    "plt.yscale('log')\n",
    "plt.xlabel('Radius (kpc)')\n",
    "plt.ylabel('Surface brightness (Jy/arcmin$^2$)')\n",
    "plt.grid()"
   ]
  },
  {
   "cell_type": "markdown",
   "metadata": {},
   "source": [
    "# Define the cluster model"
   ]
  },
  {
   "cell_type": "code",
   "execution_count": 5,
   "metadata": {},
   "outputs": [],
   "source": [
    "cluster = minot.Cluster(name='Perseus', redshift=0.0179, M500=6.2e14*u.Msun, cosmology=cosmo, silent=True)\n",
    "cluster.coord = SkyCoord(\"3h19m47.2s +41d30m47s\", frame='icrs')\n",
    "cluster.output_dir = os.getenv('CTAPHYS_OUT_DIR')+'Perseus_KSP_calibration'\n",
    "\n",
    "# Thermodynamics\n",
    "cluster.density_gas_model = {'name':'doublebeta', 'beta1':1.8, 'r_c1':80*u.kpc, 'n_01':3.9e-2*u.cm**-3,\n",
    "                             'beta2':0.87, 'r_c2':280*u.kpc, 'n_02':4.05e-3*u.cm**-3}\n",
    "cluster.pressure_gas_model = {'name':'GNFW', 'P_0':0.0026*u.keV/u.cm**3, 'r_p':1088*u.kpc,\n",
    "                              'a':2.74, 'b':4.21, 'c':0.52}\n",
    "# CR\n",
    "cluster.set_density_cre1_isobaric_scal_param(scal=1.0)\n",
    "cluster.X_cre1_E = {'X':0, 'R_norm':cluster.R500}\n",
    "cluster.set_density_crp_isobaric_scal_param(scal=1.0)\n",
    "cluster.X_crp_E = {'X':0.01, 'R_norm':cluster.R500}\n",
    "\n",
    "# B field strenght\n",
    "cluster.set_magfield_isodens_scal_param(Bnorm=1*u.uG, r0=10*u.kpc, scal=1)\n",
    "eta, Bnorm, rnorm = 0.5, 25*u.uG, 10*u.kpc\n",
    "r, B = cluster.get_magfield_profile(radius=np.logspace(-1,5,10000)*u.kpc)\n",
    "r_ref, B_ref = cluster.get_magfield_profile(rnorm)\n",
    "cluster.magfield_model = {'name':'User', 'radius':r, 'profile':Bnorm*(B/B_ref[0])**eta}\n",
    "\n",
    "# Sampling\n",
    "cluster.Npt_per_decade_integ = 10"
   ]
  },
  {
   "cell_type": "markdown",
   "metadata": {},
   "source": [
    "# MCMC fit"
   ]
  },
  {
   "cell_type": "code",
   "execution_count": 6,
   "metadata": {},
   "outputs": [],
   "source": [
    "#----- Defines log likelihood\n",
    "def lnlike(params, cluster, data):\n",
    "    cond1 = params[0]>=0 and params[1]>=0\n",
    "    if cond1:\n",
    "        mod = model(params, cluster, data)\n",
    "        err = (0.5*(data['error_p'] + data['error_m'])).to_value('Jy arcmin-2')\n",
    "        chi2 = ((data['flux'].to_value('Jy arcmin-2') - mod.to_value('Jy arcmin-2'))**2) / (err**2)\n",
    "        return -0.5*np.nansum(chi2)\n",
    "    else:\n",
    "        return -np.inf"
   ]
  },
  {
   "cell_type": "code",
   "execution_count": 7,
   "metadata": {},
   "outputs": [],
   "source": [
    "#----- Defines model\n",
    "def model(params, cluster, data):\n",
    "    X_crp_E  = params[0]\n",
    "    scal_crp = params[1]\n",
    "    \n",
    "    cluster.set_density_crp_isobaric_scal_param(scal=scal_crp)\n",
    "    cluster.X_crp_E = {'X':X_crp_E, 'R_norm':cluster.R500}\n",
    "    \n",
    "    r_synch, p_synch = cluster.get_synchrotron_profile(data['radius'], freq0=data['freq0'])\n",
    "    \n",
    "    return p_synch"
   ]
  },
  {
   "cell_type": "code",
   "execution_count": 8,
   "metadata": {},
   "outputs": [],
   "source": [
    "#----- Define the MCMC\n",
    "par0 = np.array([0.01, \n",
    "                 5.0])\n",
    "    \n",
    "param_name = ['X', 's']\n",
    "ndim, nwalkers, nsteps, burnin = len(par0), 10, 1000, 100\n",
    "pos = [par0 + 1e-3*np.random.randn(ndim) for i in range(nwalkers)]\n",
    "sampler = emcee.EnsembleSampler(nwalkers, ndim, lnlike, \n",
    "                                args=[cluster, prof_data], \n",
    "                                a=2.0, threads=2)"
   ]
  },
  {
   "cell_type": "code",
   "execution_count": 9,
   "metadata": {},
   "outputs": [],
   "source": [
    "#----- Restart from where it is or reset\n",
    "if reset_mcmc:\n",
    "    sampler.reset()\n",
    "else:\n",
    "    pos = sampler.chain[:,-1,:]"
   ]
  },
  {
   "cell_type": "code",
   "execution_count": null,
   "metadata": {},
   "outputs": [
    {
     "name": "stderr",
     "output_type": "stream",
     "text": [
      "/Users/adam/Project/anaconda3/envs/cta/lib/python2.7/site-packages/minot/model_modpar.py:1118: RuntimeWarning: divide by zero encountered in log10\n",
      "  np.log10(user_p), kind='linear', fill_value='extrapolate')\n",
      "/Users/adam/Project/anaconda3/envs/cta/lib/python2.7/site-packages/scipy/interpolate/interpolate.py:610: RuntimeWarning: invalid value encountered in subtract\n",
      "  slope = (y_hi - y_lo) / (x_hi - x_lo)[:, None]\n",
      "/Users/adam/Project/anaconda3/envs/cta/lib/python2.7/site-packages/ipykernel_launcher.py:7: RuntimeWarning: divide by zero encountered in divide\n",
      "  import sys\n",
      "/Users/adam/Project/anaconda3/envs/cta/lib/python2.7/site-packages/emcee/moves/red_blue.py:99: RuntimeWarning: invalid value encountered in double_scalars\n",
      "  lnpdiff = f + nlp - state.log_prob[j]\n"
     ]
    }
   ],
   "source": [
    "#----- Run the MCMC\n",
    "sampler.run_mcmc(pos, nsteps)"
   ]
  },
  {
   "cell_type": "code",
   "execution_count": null,
   "metadata": {},
   "outputs": [],
   "source": [
    "#----- Burn in\n",
    "param_chains = sampler.chain[:, burnin:, :]\n",
    "lnL_chains = sampler.lnprobability[:, burnin:]"
   ]
  },
  {
   "cell_type": "code",
   "execution_count": null,
   "metadata": {},
   "outputs": [],
   "source": [
    "#----- Get the best fit parameters\n",
    "wbest = (lnL_chains == np.amax(lnL_chains))\n",
    "param_best = []\n",
    "for i in range(ndim):\n",
    "    param_best.append(((param_chains[:,:,i])[wbest])[0])"
   ]
  },
  {
   "cell_type": "code",
   "execution_count": null,
   "metadata": {},
   "outputs": [],
   "source": [
    "#----- MC parameters\n",
    "param_flat = param_chains.reshape(param_chains.shape[0]*param_chains.shape[1],param_chains.shape[2])\n",
    "Nsample = len(param_flat[:,0])-1\n",
    "param_MC = np.zeros((Nmc, ndim))\n",
    "for i in range(Nmc):\n",
    "    param_MC[i,:] = param_flat[np.random.randint(0, high=Nsample), :] # randomly taken from chains"
   ]
  },
  {
   "cell_type": "markdown",
   "metadata": {},
   "source": [
    "# Result"
   ]
  },
  {
   "cell_type": "markdown",
   "metadata": {},
   "source": [
    "### Parameters"
   ]
  },
  {
   "cell_type": "code",
   "execution_count": null,
   "metadata": {},
   "outputs": [],
   "source": [
    "print(param_best)"
   ]
  },
  {
   "cell_type": "code",
   "execution_count": null,
   "metadata": {},
   "outputs": [],
   "source": [
    "#----- Parameter space\n",
    "par_flat = param_chains.reshape(param_chains.shape[0]*param_chains.shape[1], param_chains.shape[2])\n",
    "fig = corner.corner(par_flat, bins=50, color='k', smooth=1, labels=param_name, quantiles=(0.16, 0.84))"
   ]
  },
  {
   "cell_type": "markdown",
   "metadata": {},
   "source": [
    "### Data versus best-fit"
   ]
  },
  {
   "cell_type": "code",
   "execution_count": null,
   "metadata": {},
   "outputs": [],
   "source": [
    "best_fit = model(param_best, cluster, prof_data)"
   ]
  },
  {
   "cell_type": "code",
   "execution_count": null,
   "metadata": {},
   "outputs": [],
   "source": [
    "fig = plt.figure(0, figsize=(18, 8))\n",
    "ax = plt.subplot(121)\n",
    "plt.errorbar(spec_data['freq'].to_value('MHz'), spec_data['flux'].to_value('Jy'), spec_data['error'].to_value('Jy'),\n",
    "            marker='o', linestyle='')\n",
    "plt.xscale('log')\n",
    "plt.yscale('log')\n",
    "plt.xlabel('Frequency (MHz)')\n",
    "plt.ylabel('Flux (Jy)')\n",
    "plt.grid()\n",
    "\n",
    "ax = plt.subplot(122)\n",
    "plt.errorbar(prof_data['radius'].to_value('kpc'), prof_data['flux'].to_value('Jy arcmin-2'), \n",
    "             yerr=(prof_data['error_m'].to_value('Jy arcmin-2'), prof_data['error_p'].to_value('Jy arcmin-2')),\n",
    "             marker='o', linestyle='')\n",
    "plt.plot(prof_data['radius'].to_value('kpc'), best_fit.to_value('Jy arcmin-2'))\n",
    "plt.xscale('linear')\n",
    "plt.yscale('log')\n",
    "plt.xlabel('Radius (kpc)')\n",
    "plt.ylabel('Surface brightness (Jy/arcmin$^2$)')\n",
    "plt.grid()"
   ]
  },
  {
   "cell_type": "code",
   "execution_count": null,
   "metadata": {},
   "outputs": [],
   "source": []
  }
 ],
 "metadata": {
  "kernelspec": {
   "display_name": "Python 2",
   "language": "python",
   "name": "python2"
  },
  "language_info": {
   "codemirror_mode": {
    "name": "ipython",
    "version": 2
   },
   "file_extension": ".py",
   "mimetype": "text/x-python",
   "name": "python",
   "nbconvert_exporter": "python",
   "pygments_lexer": "ipython2",
   "version": "2.7.17"
  }
 },
 "nbformat": 4,
 "nbformat_minor": 2
}
